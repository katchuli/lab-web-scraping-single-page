{
 "cells": [
  {
   "cell_type": "code",
   "execution_count": 3,
   "metadata": {
    "id": "SyHqFC5dxt8W"
   },
   "outputs": [],
   "source": [
    "#!pip install bs4\n",
    "from bs4 import BeautifulSoup"
   ]
  },
  {
   "cell_type": "code",
   "execution_count": 4,
   "metadata": {
    "id": "5lnKQA63zPrb"
   },
   "outputs": [],
   "source": [
    "from bs4 import BeautifulSoup\n",
    "import requests\n",
    "import pandas as pd"
   ]
  },
  {
   "cell_type": "code",
   "execution_count": 5,
   "metadata": {
    "id": "zdor6CI2lZlK"
   },
   "outputs": [],
   "source": [
    "# 2. find url and store it in a variable\n",
    "url = \"https://www.popvortex.com/music/charts/top-100-songs.php\""
   ]
  },
  {
   "cell_type": "code",
   "execution_count": 6,
   "metadata": {},
   "outputs": [],
   "source": [
    "response = requests.get(url)"
   ]
  },
  {
   "cell_type": "code",
   "execution_count": 7,
   "metadata": {},
   "outputs": [
    {
     "data": {
      "text/plain": [
       "200"
      ]
     },
     "execution_count": 7,
     "metadata": {},
     "output_type": "execute_result"
    }
   ],
   "source": [
    "response.status_code"
   ]
  },
  {
   "cell_type": "code",
   "execution_count": 8,
   "metadata": {},
   "outputs": [],
   "source": [
    "# response.content"
   ]
  },
  {
   "cell_type": "code",
   "execution_count": 9,
   "metadata": {},
   "outputs": [],
   "source": [
    "soup = BeautifulSoup(response.content, \"html.parser\")"
   ]
  },
  {
   "cell_type": "code",
   "execution_count": 10,
   "metadata": {
    "scrolled": true
   },
   "outputs": [
    {
     "data": {
      "text/plain": [
       "[<cite class=\"title\">TEXAS HOLD 'EM</cite>,\n",
       " <cite class=\"title\">Beautiful Messes</cite>,\n",
       " <cite class=\"title\">Lose Control</cite>,\n",
       " <cite class=\"title\">Beautiful Things</cite>,\n",
       " <cite class=\"title\">Flowers</cite>,\n",
       " <cite class=\"title\">Turn the Lights Back On</cite>,\n",
       " <cite class=\"title\">TEXAS HOLD 'EM</cite>,\n",
       " <cite class=\"title\">Don't Let the Old Man In</cite>,\n",
       " <cite class=\"title\">Lovin On Me</cite>,\n",
       " <cite class=\"title\">Selfish</cite>,\n",
       " <cite class=\"title\">Sorrys &amp; Ferraris</cite>,\n",
       " <cite class=\"title\">I Remember Everything (feat. Kacey Musgraves)</cite>,\n",
       " <cite class=\"title\">Houdini</cite>,\n",
       " <cite class=\"title\">Fast Car</cite>,\n",
       " <cite class=\"title\">Made For Me</cite>,\n",
       " <cite class=\"title\">Training Season</cite>,\n",
       " <cite class=\"title\">Fast Car</cite>,\n",
       " <cite class=\"title\">Live Like You Were Dying</cite>,\n",
       " <cite class=\"title\">Where the Wild Things Are</cite>,\n",
       " <cite class=\"title\">Save Me</cite>,\n",
       " <cite class=\"title\">Lil Boo Thang</cite>,\n",
       " <cite class=\"title\">Cruel Summer</cite>,\n",
       " <cite class=\"title\">Yeah! (feat. Lil Jon &amp; Ludacris)</cite>,\n",
       " <cite class=\"title\">Until I Found You</cite>,\n",
       " <cite class=\"title\">16 CARRIAGES</cite>,\n",
       " <cite class=\"title\">Need a Favor</cite>,\n",
       " <cite class=\"title\">Powerful Women</cite>,\n",
       " <cite class=\"title\">Spicy Margarita</cite>,\n",
       " <cite class=\"title\">Country's Cool Again</cite>,\n",
       " <cite class=\"title\">Three Little Birds</cite>,\n",
       " <cite class=\"title\">You Are the Reason</cite>,\n",
       " <cite class=\"title\">Let's Go</cite>,\n",
       " <cite class=\"title\">White Horse</cite>,\n",
       " <cite class=\"title\">Good Day</cite>,\n",
       " <cite class=\"title\">In Case You Didn't Know</cite>,\n",
       " <cite class=\"title\">Murder On the Dancefloor (Radio Edit)</cite>,\n",
       " <cite class=\"title\">Water</cite>,\n",
       " <cite class=\"title\">yes, and?</cite>,\n",
       " <cite class=\"title\">Until I Found You (Em Beihold Version)</cite>,\n",
       " <cite class=\"title\">Save Me (with Lainey Wilson)</cite>,\n",
       " <cite class=\"title\">Should've Been a Cowboy</cite>,\n",
       " <cite class=\"title\">Thinkin’ Bout Me</cite>,\n",
       " <cite class=\"title\">What Was I Made For? (From The Motion Picture \"Barbie\")</cite>,\n",
       " <cite class=\"title\">Wildflowers and Wild Horses (Single Version)</cite>,\n",
       " <cite class=\"title\">Hard to Love</cite>,\n",
       " <cite class=\"title\">Lovin On Me</cite>,\n",
       " <cite class=\"title\">A Country Boy Can Survive</cite>,\n",
       " <cite class=\"title\">Devil You Know</cite>,\n",
       " <cite class=\"title\">One Love / People Get Ready</cite>,\n",
       " <cite class=\"title\">Spin You Around (1/24)</cite>,\n",
       " <cite class=\"title\">Courtesy of the Red, White and Blue (The Angry American)</cite>,\n",
       " <cite class=\"title\">Anti-Hero</cite>,\n",
       " <cite class=\"title\">Give In to Me</cite>,\n",
       " <cite class=\"title\">Praise (feat. Brandon Lake, Chris Brown &amp; Chandler Moore)</cite>,\n",
       " <cite class=\"title\">Dance The Night</cite>,\n",
       " <cite class=\"title\">Pretty Little Poison</cite>,\n",
       " <cite class=\"title\">23</cite>,\n",
       " <cite class=\"title\">Tennessee Whiskey</cite>,\n",
       " <cite class=\"title\">Last Night</cite>,\n",
       " <cite class=\"title\">What I Couldn’t Forget</cite>,\n",
       " <cite class=\"title\">Lover</cite>,\n",
       " <cite class=\"title\">You’re Losing Me (From The Vault)</cite>,\n",
       " <cite class=\"title\">Love Story (Taylor’s Version)</cite>,\n",
       " <cite class=\"title\">The Door</cite>,\n",
       " <cite class=\"title\">Stick Season</cite>,\n",
       " <cite class=\"title\">bury a friend</cite>,\n",
       " <cite class=\"title\">TRUCK BED</cite>,\n",
       " <cite class=\"title\">You Belong With Me (Taylor’s Version)</cite>,\n",
       " <cite class=\"title\">Standing Next to You (Usher Remix)</cite>,\n",
       " <cite class=\"title\">It Ain't Over 'Til It's Over</cite>,\n",
       " <cite class=\"title\">You Are the Reason (Duet Version)</cite>,\n",
       " <cite class=\"title\">Watermelon Moonshine</cite>,\n",
       " <cite class=\"title\">As Good As I Once Was</cite>,\n",
       " <cite class=\"title\">Standing Next to You (USHER Remix)</cite>,\n",
       " <cite class=\"title\">To Be A Man (feat. Darius Rucker)</cite>,\n",
       " <cite class=\"title\">There Was Jesus</cite>,\n",
       " <cite class=\"title\">Karma</cite>,\n",
       " <cite class=\"title\">The Painter</cite>,\n",
       " <cite class=\"title\">Life With You</cite>,\n",
       " <cite class=\"title\">CARNIVAL</cite>,\n",
       " <cite class=\"title\">EASY</cite>,\n",
       " <cite class=\"title\">Can't Get Enough</cite>,\n",
       " <cite class=\"title\">Tell It To My Heart</cite>,\n",
       " <cite class=\"title\">...Ready For It?</cite>,\n",
       " <cite class=\"title\">You Need To Calm Down</cite>,\n",
       " <cite class=\"title\">Unstoppable</cite>,\n",
       " <cite class=\"title\">We Are the World</cite>,\n",
       " <cite class=\"title\">Lead Me Home</cite>,\n",
       " <cite class=\"title\">A Symptom Of Being Human</cite>,\n",
       " <cite class=\"title\">Praise Jah In the Moonlight</cite>,\n",
       " <cite class=\"title\">Bulletproof</cite>,\n",
       " <cite class=\"title\">Used To Be Young</cite>,\n",
       " <cite class=\"title\">Is It Over Now? (Taylor's Version) [From The Vault]</cite>,\n",
       " <cite class=\"title\">Fly Away</cite>,\n",
       " <cite class=\"title\">How Do You Like Me Now?!</cite>,\n",
       " <cite class=\"title\">Dance You Outta My Head</cite>,\n",
       " <cite class=\"title\">Everybody (feat. Lil Uzi Vert)</cite>,\n",
       " <cite class=\"title\">Strangers</cite>,\n",
       " <cite class=\"title\">redrum</cite>,\n",
       " <cite class=\"title\">The Sound of Silence (CYRIL Remix)</cite>]"
      ]
     },
     "execution_count": 10,
     "metadata": {},
     "output_type": "execute_result"
    }
   ],
   "source": [
    "soup.select('div.chart-content.col-xs-12.col-sm-8 > p > cite')"
   ]
  },
  {
   "cell_type": "code",
   "execution_count": 11,
   "metadata": {},
   "outputs": [
    {
     "data": {
      "text/plain": [
       "100"
      ]
     },
     "execution_count": 11,
     "metadata": {},
     "output_type": "execute_result"
    }
   ],
   "source": [
    "len(soup.select('div.chart-content.col-xs-12.col-sm-8 > p > cite'))"
   ]
  },
  {
   "cell_type": "code",
   "execution_count": 12,
   "metadata": {},
   "outputs": [
    {
     "data": {
      "text/plain": [
       "[<em class=\"artist\">Beyoncé</em>,\n",
       " <em class=\"artist\">Hillary Scott &amp; The Scott Family</em>,\n",
       " <em class=\"artist\">Teddy Swims</em>,\n",
       " <em class=\"artist\">Benson Boone</em>,\n",
       " <em class=\"artist\">Miley Cyrus</em>,\n",
       " <em class=\"artist\">Billy Joel</em>,\n",
       " <em class=\"artist\">Beyoncé</em>,\n",
       " <em class=\"artist\">Toby Keith</em>,\n",
       " <em class=\"artist\">Jack Harlow</em>,\n",
       " <em class=\"artist\">Justin Timberlake</em>,\n",
       " <em class=\"artist\">Polo G</em>,\n",
       " <em class=\"artist\">Zach Bryan</em>,\n",
       " <em class=\"artist\">Dua Lipa</em>,\n",
       " <em class=\"artist\">Luke Combs</em>,\n",
       " <em class=\"artist\">Muni Long</em>,\n",
       " <em class=\"artist\">Dua Lipa</em>,\n",
       " <em class=\"artist\">Tracy Chapman</em>,\n",
       " <em class=\"artist\">Tim McGraw</em>,\n",
       " <em class=\"artist\">Luke Combs</em>,\n",
       " <em class=\"artist\">Jelly Roll</em>,\n",
       " <em class=\"artist\">Paul Russell</em>,\n",
       " <em class=\"artist\">Taylor Swift</em>,\n",
       " <em class=\"artist\">USHER</em>,\n",
       " <em class=\"artist\">Stephen Sanchez</em>,\n",
       " <em class=\"artist\">Beyoncé</em>,\n",
       " <em class=\"artist\">Jelly Roll</em>,\n",
       " <em class=\"artist\">Pitbull &amp; Dolly Parton</em>,\n",
       " <em class=\"artist\">Jason Derulo &amp; Michael Bublé</em>,\n",
       " <em class=\"artist\">Lainey Wilson</em>,\n",
       " <em class=\"artist\">Bob Marley &amp; The Wailers</em>,\n",
       " <em class=\"artist\">Calum Scott</em>,\n",
       " <em class=\"artist\">Key Glock</em>,\n",
       " <em class=\"artist\">Chris Stapleton</em>,\n",
       " <em class=\"artist\">Forrest Frank</em>,\n",
       " <em class=\"artist\">Brett Young</em>,\n",
       " <em class=\"artist\">Sophie Ellis-Bextor</em>,\n",
       " <em class=\"artist\">Tyla</em>,\n",
       " <em class=\"artist\">Ariana Grande &amp; Mariah Carey</em>,\n",
       " <em class=\"artist\">Stephen Sanchez &amp; Em Beihold</em>,\n",
       " <em class=\"artist\">Jelly Roll</em>,\n",
       " <em class=\"artist\">Toby Keith</em>,\n",
       " <em class=\"artist\">Morgan Wallen</em>,\n",
       " <em class=\"artist\">Billie Eilish</em>,\n",
       " <em class=\"artist\">Lainey Wilson</em>,\n",
       " <em class=\"artist\">Lee Brice</em>,\n",
       " <em class=\"artist\">Jack Harlow</em>,\n",
       " <em class=\"artist\">Hank Williams, Jr.</em>,\n",
       " <em class=\"artist\">Tyler Braden</em>,\n",
       " <em class=\"artist\">Bob Marley &amp; The Wailers</em>,\n",
       " <em class=\"artist\">Morgan Wallen</em>,\n",
       " <em class=\"artist\">Toby Keith</em>,\n",
       " <em class=\"artist\">Taylor Swift</em>,\n",
       " <em class=\"artist\">Garrett Hedlund &amp; Leighton Meester</em>,\n",
       " <em class=\"artist\">Elevation Worship</em>,\n",
       " <em class=\"artist\">Dua Lipa</em>,\n",
       " <em class=\"artist\">Warren Zeiders</em>,\n",
       " <em class=\"artist\">Chayce Beckham</em>,\n",
       " <em class=\"artist\">Chris Stapleton</em>,\n",
       " <em class=\"artist\">Morgan Wallen</em>,\n",
       " <em class=\"artist\">Drake Milligan</em>,\n",
       " <em class=\"artist\">Taylor Swift</em>,\n",
       " <em class=\"artist\">Taylor Swift</em>,\n",
       " <em class=\"artist\">Taylor Swift</em>,\n",
       " <em class=\"artist\">Teddy Swims</em>,\n",
       " <em class=\"artist\">Noah Kahan</em>,\n",
       " <em class=\"artist\">Billie Eilish</em>,\n",
       " <em class=\"artist\">HARDY</em>,\n",
       " <em class=\"artist\">Taylor Swift</em>,\n",
       " <em class=\"artist\">Jung Kook &amp; USHER</em>,\n",
       " <em class=\"artist\">Lenny Kravitz</em>,\n",
       " <em class=\"artist\">Calum Scott &amp; Leona Lewis</em>,\n",
       " <em class=\"artist\">Lainey Wilson</em>,\n",
       " <em class=\"artist\">Toby Keith</em>,\n",
       " <em class=\"artist\">Jung Kook &amp; USHER</em>,\n",
       " <em class=\"artist\">Dax</em>,\n",
       " <em class=\"artist\">Zach Williams &amp; Dolly Parton</em>,\n",
       " <em class=\"artist\">Taylor Swift</em>,\n",
       " <em class=\"artist\">Cody Johnson</em>,\n",
       " <em class=\"artist\">Kelsey Hart</em>,\n",
       " <em class=\"artist\">¥$, Kanye West &amp; Ty Dolla $ign</em>,\n",
       " <em class=\"artist\">LE SSERAFIM</em>,\n",
       " <em class=\"artist\">Jennifer Lopez</em>,\n",
       " <em class=\"artist\">Cash Cash &amp; Taylor Dayne</em>,\n",
       " <em class=\"artist\">Taylor Swift</em>,\n",
       " <em class=\"artist\">Taylor Swift</em>,\n",
       " <em class=\"artist\">Sia</em>,\n",
       " <em class=\"artist\">U.S.A. for Africa</em>,\n",
       " <em class=\"artist\">Jamey Johnson</em>,\n",
       " <em class=\"artist\">Shinedown</em>,\n",
       " <em class=\"artist\">YG Marley</em>,\n",
       " <em class=\"artist\">Nate Smith</em>,\n",
       " <em class=\"artist\">Miley Cyrus</em>,\n",
       " <em class=\"artist\">Taylor Swift</em>,\n",
       " <em class=\"artist\">Lenny Kravitz</em>,\n",
       " <em class=\"artist\">Toby Keith</em>,\n",
       " <em class=\"artist\">Cat Janice</em>,\n",
       " <em class=\"artist\">Nicki Minaj</em>,\n",
       " <em class=\"artist\">Kenya Grace</em>,\n",
       " <em class=\"artist\">21 Savage</em>,\n",
       " <em class=\"artist\">Disturbed</em>]"
      ]
     },
     "execution_count": 12,
     "metadata": {},
     "output_type": "execute_result"
    }
   ],
   "source": [
    "soup.select('div.chart-content.col-xs-12.col-sm-8 > p > em')"
   ]
  },
  {
   "cell_type": "code",
   "execution_count": 13,
   "metadata": {},
   "outputs": [
    {
     "data": {
      "text/plain": [
       "100"
      ]
     },
     "execution_count": 13,
     "metadata": {},
     "output_type": "execute_result"
    }
   ],
   "source": [
    "len(soup.select('div.chart-content.col-xs-12.col-sm-8 > p > em'))"
   ]
  },
  {
   "cell_type": "code",
   "execution_count": 41,
   "metadata": {},
   "outputs": [],
   "source": [
    "songs = []\n",
    "artists = []\n",
    "for i in range(1,100):\n",
    "    songs.append(soup.select('div.chart-content.col-xs-12.col-sm-8 > p > cite')[i].get_text())\n",
    "    artists.append(soup.select('div.chart-content.col-xs-12.col-sm-8 > p > em')[i].get_text())"
   ]
  },
  {
   "cell_type": "code",
   "execution_count": 42,
   "metadata": {},
   "outputs": [],
   "source": [
    "top100 = pd.DataFrame({'song':songs, 'artist':artists})"
   ]
  },
  {
   "cell_type": "code",
   "execution_count": 43,
   "metadata": {},
   "outputs": [
    {
     "data": {
      "text/html": [
       "<div>\n",
       "<style scoped>\n",
       "    .dataframe tbody tr th:only-of-type {\n",
       "        vertical-align: middle;\n",
       "    }\n",
       "\n",
       "    .dataframe tbody tr th {\n",
       "        vertical-align: top;\n",
       "    }\n",
       "\n",
       "    .dataframe thead th {\n",
       "        text-align: right;\n",
       "    }\n",
       "</style>\n",
       "<table border=\"1\" class=\"dataframe\">\n",
       "  <thead>\n",
       "    <tr style=\"text-align: right;\">\n",
       "      <th></th>\n",
       "      <th>song</th>\n",
       "      <th>artist</th>\n",
       "    </tr>\n",
       "  </thead>\n",
       "  <tbody>\n",
       "    <tr>\n",
       "      <th>0</th>\n",
       "      <td>Beautiful Messes</td>\n",
       "      <td>Hillary Scott &amp; The Scott Family</td>\n",
       "    </tr>\n",
       "    <tr>\n",
       "      <th>1</th>\n",
       "      <td>Lose Control</td>\n",
       "      <td>Teddy Swims</td>\n",
       "    </tr>\n",
       "    <tr>\n",
       "      <th>2</th>\n",
       "      <td>Beautiful Things</td>\n",
       "      <td>Benson Boone</td>\n",
       "    </tr>\n",
       "    <tr>\n",
       "      <th>3</th>\n",
       "      <td>Flowers</td>\n",
       "      <td>Miley Cyrus</td>\n",
       "    </tr>\n",
       "    <tr>\n",
       "      <th>4</th>\n",
       "      <td>Turn the Lights Back On</td>\n",
       "      <td>Billy Joel</td>\n",
       "    </tr>\n",
       "    <tr>\n",
       "      <th>5</th>\n",
       "      <td>TEXAS HOLD 'EM</td>\n",
       "      <td>Beyoncé</td>\n",
       "    </tr>\n",
       "    <tr>\n",
       "      <th>6</th>\n",
       "      <td>Don't Let the Old Man In</td>\n",
       "      <td>Toby Keith</td>\n",
       "    </tr>\n",
       "    <tr>\n",
       "      <th>7</th>\n",
       "      <td>Lovin On Me</td>\n",
       "      <td>Jack Harlow</td>\n",
       "    </tr>\n",
       "    <tr>\n",
       "      <th>8</th>\n",
       "      <td>Selfish</td>\n",
       "      <td>Justin Timberlake</td>\n",
       "    </tr>\n",
       "    <tr>\n",
       "      <th>9</th>\n",
       "      <td>Sorrys &amp; Ferraris</td>\n",
       "      <td>Polo G</td>\n",
       "    </tr>\n",
       "  </tbody>\n",
       "</table>\n",
       "</div>"
      ],
      "text/plain": [
       "                       song                            artist\n",
       "0          Beautiful Messes  Hillary Scott & The Scott Family\n",
       "1              Lose Control                       Teddy Swims\n",
       "2          Beautiful Things                      Benson Boone\n",
       "3                   Flowers                       Miley Cyrus\n",
       "4   Turn the Lights Back On                        Billy Joel\n",
       "5            TEXAS HOLD 'EM                           Beyoncé\n",
       "6  Don't Let the Old Man In                        Toby Keith\n",
       "7               Lovin On Me                       Jack Harlow\n",
       "8                   Selfish                 Justin Timberlake\n",
       "9         Sorrys & Ferraris                            Polo G"
      ]
     },
     "execution_count": 43,
     "metadata": {},
     "output_type": "execute_result"
    }
   ],
   "source": [
    "top100.head(10)"
   ]
  },
  {
   "cell_type": "code",
   "execution_count": 58,
   "metadata": {},
   "outputs": [
    {
     "name": "stdout",
     "output_type": "stream",
     "text": [
      "What song do you want?Flowers\n"
     ]
    }
   ],
   "source": [
    "wish = input(\"What song do you want?\")"
   ]
  },
  {
   "cell_type": "code",
   "execution_count": null,
   "metadata": {},
   "outputs": [],
   "source": [
    "from random import randint"
   ]
  },
  {
   "cell_type": "code",
   "execution_count": 63,
   "metadata": {},
   "outputs": [
    {
     "name": "stdout",
     "output_type": "stream",
     "text": [
      "Flowers : Miley Cyrus\n"
     ]
    }
   ],
   "source": [
    "def print_a_song (song_index):\n",
    "    print(top100['song'][song_index],':',top100['artist'][song_index])\n",
    "\n",
    "index= -1\n",
    "try:\n",
    "    index=(top100[top100['song']== wish].index.values)[0]\n",
    "    \n",
    "except:\n",
    "    print(\"La cancion no esta\")\n",
    "\n",
    "\n",
    "if index >= 0:\n",
    "    print_a_song(index)\n",
    "\n",
    "else:\n",
    "     random_song = randint(1,100)\n",
    "    print_a_\n"
   ]
  },
  {
   "cell_type": "code",
   "execution_count": null,
   "metadata": {},
   "outputs": [],
   "source": []
  }
 ],
 "metadata": {
  "colab": {
   "provenance": []
  },
  "kernelspec": {
   "display_name": "Python 3 (ipykernel)",
   "language": "python",
   "name": "python3"
  },
  "language_info": {
   "codemirror_mode": {
    "name": "ipython",
    "version": 3
   },
   "file_extension": ".py",
   "mimetype": "text/x-python",
   "name": "python",
   "nbconvert_exporter": "python",
   "pygments_lexer": "ipython3",
   "version": "3.11.3"
  }
 },
 "nbformat": 4,
 "nbformat_minor": 1
}
